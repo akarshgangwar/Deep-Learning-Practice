{
 "cells": [
  {
   "cell_type": "code",
   "execution_count": 1,
   "id": "a99dae4e",
   "metadata": {},
   "outputs": [],
   "source": [
    "from  sklearn import  datasets\n",
    "iris=datasets.load_iris()"
   ]
  },
  {
   "cell_type": "code",
   "execution_count": 2,
   "id": "20c9168c",
   "metadata": {},
   "outputs": [],
   "source": [
    "x=iris.data\n",
    "y=iris.target"
   ]
  },
  {
   "cell_type": "code",
   "execution_count": 4,
   "id": "c7e2097e",
   "metadata": {},
   "outputs": [
    {
     "data": {
      "text/plain": [
       "array([0, 0, 0, 0, 0, 0, 0, 0, 0, 0, 0, 0, 0, 0, 0, 0, 0, 0, 0, 0, 0, 0,\n",
       "       0, 0, 0, 0, 0, 0, 0, 0, 0, 0, 0, 0, 0, 0, 0, 0, 0, 0, 0, 0, 0, 0,\n",
       "       0, 0, 0, 0, 0, 0, 1, 1, 1, 1, 1, 1, 1, 1, 1, 1, 1, 1, 1, 1, 1, 1,\n",
       "       1, 1, 1, 1, 1, 1, 1, 1, 1, 1, 1, 1, 1, 1, 1, 1, 1, 1, 1, 1, 1, 1,\n",
       "       1, 1, 1, 1, 1, 1, 1, 1, 1, 1, 1, 1, 2, 2, 2, 2, 2, 2, 2, 2, 2, 2,\n",
       "       2, 2, 2, 2, 2, 2, 2, 2, 2, 2, 2, 2, 2, 2, 2, 2, 2, 2, 2, 2, 2, 2,\n",
       "       2, 2, 2, 2, 2, 2, 2, 2, 2, 2, 2, 2, 2, 2, 2, 2, 2, 2])"
      ]
     },
     "execution_count": 4,
     "metadata": {},
     "output_type": "execute_result"
    }
   ],
   "source": [
    "y"
   ]
  },
  {
   "cell_type": "code",
   "execution_count": 5,
   "id": "0868ffd7",
   "metadata": {},
   "outputs": [],
   "source": [
    "from sklearn.model_selection import train_test_split\n",
    "x_train,x_test,y_train,y_test=train_test_split(x,y,test_size=.5)"
   ]
  },
  {
   "cell_type": "code",
   "execution_count": 6,
   "id": "e6ac0ed2",
   "metadata": {},
   "outputs": [],
   "source": [
    "from sklearn import tree\n",
    "classifier=tree.DecisionTreeClassifier()"
   ]
  },
  {
   "cell_type": "code",
   "execution_count": 7,
   "id": "2af429df",
   "metadata": {
    "scrolled": true
   },
   "outputs": [
    {
     "data": {
      "text/html": [
       "<style>#sk-container-id-1 {color: black;background-color: white;}#sk-container-id-1 pre{padding: 0;}#sk-container-id-1 div.sk-toggleable {background-color: white;}#sk-container-id-1 label.sk-toggleable__label {cursor: pointer;display: block;width: 100%;margin-bottom: 0;padding: 0.3em;box-sizing: border-box;text-align: center;}#sk-container-id-1 label.sk-toggleable__label-arrow:before {content: \"▸\";float: left;margin-right: 0.25em;color: #696969;}#sk-container-id-1 label.sk-toggleable__label-arrow:hover:before {color: black;}#sk-container-id-1 div.sk-estimator:hover label.sk-toggleable__label-arrow:before {color: black;}#sk-container-id-1 div.sk-toggleable__content {max-height: 0;max-width: 0;overflow: hidden;text-align: left;background-color: #f0f8ff;}#sk-container-id-1 div.sk-toggleable__content pre {margin: 0.2em;color: black;border-radius: 0.25em;background-color: #f0f8ff;}#sk-container-id-1 input.sk-toggleable__control:checked~div.sk-toggleable__content {max-height: 200px;max-width: 100%;overflow: auto;}#sk-container-id-1 input.sk-toggleable__control:checked~label.sk-toggleable__label-arrow:before {content: \"▾\";}#sk-container-id-1 div.sk-estimator input.sk-toggleable__control:checked~label.sk-toggleable__label {background-color: #d4ebff;}#sk-container-id-1 div.sk-label input.sk-toggleable__control:checked~label.sk-toggleable__label {background-color: #d4ebff;}#sk-container-id-1 input.sk-hidden--visually {border: 0;clip: rect(1px 1px 1px 1px);clip: rect(1px, 1px, 1px, 1px);height: 1px;margin: -1px;overflow: hidden;padding: 0;position: absolute;width: 1px;}#sk-container-id-1 div.sk-estimator {font-family: monospace;background-color: #f0f8ff;border: 1px dotted black;border-radius: 0.25em;box-sizing: border-box;margin-bottom: 0.5em;}#sk-container-id-1 div.sk-estimator:hover {background-color: #d4ebff;}#sk-container-id-1 div.sk-parallel-item::after {content: \"\";width: 100%;border-bottom: 1px solid gray;flex-grow: 1;}#sk-container-id-1 div.sk-label:hover label.sk-toggleable__label {background-color: #d4ebff;}#sk-container-id-1 div.sk-serial::before {content: \"\";position: absolute;border-left: 1px solid gray;box-sizing: border-box;top: 0;bottom: 0;left: 50%;z-index: 0;}#sk-container-id-1 div.sk-serial {display: flex;flex-direction: column;align-items: center;background-color: white;padding-right: 0.2em;padding-left: 0.2em;position: relative;}#sk-container-id-1 div.sk-item {position: relative;z-index: 1;}#sk-container-id-1 div.sk-parallel {display: flex;align-items: stretch;justify-content: center;background-color: white;position: relative;}#sk-container-id-1 div.sk-item::before, #sk-container-id-1 div.sk-parallel-item::before {content: \"\";position: absolute;border-left: 1px solid gray;box-sizing: border-box;top: 0;bottom: 0;left: 50%;z-index: -1;}#sk-container-id-1 div.sk-parallel-item {display: flex;flex-direction: column;z-index: 1;position: relative;background-color: white;}#sk-container-id-1 div.sk-parallel-item:first-child::after {align-self: flex-end;width: 50%;}#sk-container-id-1 div.sk-parallel-item:last-child::after {align-self: flex-start;width: 50%;}#sk-container-id-1 div.sk-parallel-item:only-child::after {width: 0;}#sk-container-id-1 div.sk-dashed-wrapped {border: 1px dashed gray;margin: 0 0.4em 0.5em 0.4em;box-sizing: border-box;padding-bottom: 0.4em;background-color: white;}#sk-container-id-1 div.sk-label label {font-family: monospace;font-weight: bold;display: inline-block;line-height: 1.2em;}#sk-container-id-1 div.sk-label-container {text-align: center;}#sk-container-id-1 div.sk-container {/* jupyter's `normalize.less` sets `[hidden] { display: none; }` but bootstrap.min.css set `[hidden] { display: none !important; }` so we also need the `!important` here to be able to override the default hidden behavior on the sphinx rendered scikit-learn.org. See: https://github.com/scikit-learn/scikit-learn/issues/21755 */display: inline-block !important;position: relative;}#sk-container-id-1 div.sk-text-repr-fallback {display: none;}</style><div id=\"sk-container-id-1\" class=\"sk-top-container\"><div class=\"sk-text-repr-fallback\"><pre>DecisionTreeClassifier()</pre><b>In a Jupyter environment, please rerun this cell to show the HTML representation or trust the notebook. <br />On GitHub, the HTML representation is unable to render, please try loading this page with nbviewer.org.</b></div><div class=\"sk-container\" hidden><div class=\"sk-item\"><div class=\"sk-estimator sk-toggleable\"><input class=\"sk-toggleable__control sk-hidden--visually\" id=\"sk-estimator-id-1\" type=\"checkbox\" checked><label for=\"sk-estimator-id-1\" class=\"sk-toggleable__label sk-toggleable__label-arrow\">DecisionTreeClassifier</label><div class=\"sk-toggleable__content\"><pre>DecisionTreeClassifier()</pre></div></div></div></div></div>"
      ],
      "text/plain": [
       "DecisionTreeClassifier()"
      ]
     },
     "execution_count": 7,
     "metadata": {},
     "output_type": "execute_result"
    }
   ],
   "source": [
    "classifier.fit(x_train,y_train)\n"
   ]
  },
  {
   "cell_type": "code",
   "execution_count": 8,
   "id": "b9db364d",
   "metadata": {},
   "outputs": [],
   "source": [
    "predictions=classifier.predict(x_test)\n"
   ]
  },
  {
   "cell_type": "code",
   "execution_count": 9,
   "id": "7bb5b9f4",
   "metadata": {},
   "outputs": [
    {
     "name": "stdout",
     "output_type": "stream",
     "text": [
      "0.96\n"
     ]
    }
   ],
   "source": [
    "from sklearn.metrics import accuracy_score\n",
    "print(accuracy_score(y_test,predictions))\n"
   ]
  },
  {
   "cell_type": "code",
   "execution_count": 11,
   "id": "7b68cc06",
   "metadata": {},
   "outputs": [
    {
     "name": "stdout",
     "output_type": "stream",
     "text": [
      "              precision    recall  f1-score   support\n",
      "\n",
      "           0       1.00      1.00      1.00        27\n",
      "           1       0.92      0.96      0.94        25\n",
      "           2       0.95      0.91      0.93        23\n",
      "\n",
      "    accuracy                           0.96        75\n",
      "   macro avg       0.96      0.96      0.96        75\n",
      "weighted avg       0.96      0.96      0.96        75\n",
      "\n"
     ]
    }
   ],
   "source": [
    "from sklearn.metrics import classification_report\n",
    "print(classification_report(y_test, predictions))"
   ]
  },
  {
   "cell_type": "markdown",
   "id": "95613b82",
   "metadata": {},
   "source": [
    "# using k nearest"
   ]
  },
  {
   "cell_type": "code",
   "execution_count": 12,
   "id": "420ced39",
   "metadata": {},
   "outputs": [],
   "source": [
    "from sklearn import neighbors\n",
    "classifier=neighbors.KNeighborsClassifier()"
   ]
  },
  {
   "cell_type": "code",
   "execution_count": 13,
   "id": "509e2095",
   "metadata": {},
   "outputs": [
    {
     "data": {
      "text/html": [
       "<style>#sk-container-id-2 {color: black;background-color: white;}#sk-container-id-2 pre{padding: 0;}#sk-container-id-2 div.sk-toggleable {background-color: white;}#sk-container-id-2 label.sk-toggleable__label {cursor: pointer;display: block;width: 100%;margin-bottom: 0;padding: 0.3em;box-sizing: border-box;text-align: center;}#sk-container-id-2 label.sk-toggleable__label-arrow:before {content: \"▸\";float: left;margin-right: 0.25em;color: #696969;}#sk-container-id-2 label.sk-toggleable__label-arrow:hover:before {color: black;}#sk-container-id-2 div.sk-estimator:hover label.sk-toggleable__label-arrow:before {color: black;}#sk-container-id-2 div.sk-toggleable__content {max-height: 0;max-width: 0;overflow: hidden;text-align: left;background-color: #f0f8ff;}#sk-container-id-2 div.sk-toggleable__content pre {margin: 0.2em;color: black;border-radius: 0.25em;background-color: #f0f8ff;}#sk-container-id-2 input.sk-toggleable__control:checked~div.sk-toggleable__content {max-height: 200px;max-width: 100%;overflow: auto;}#sk-container-id-2 input.sk-toggleable__control:checked~label.sk-toggleable__label-arrow:before {content: \"▾\";}#sk-container-id-2 div.sk-estimator input.sk-toggleable__control:checked~label.sk-toggleable__label {background-color: #d4ebff;}#sk-container-id-2 div.sk-label input.sk-toggleable__control:checked~label.sk-toggleable__label {background-color: #d4ebff;}#sk-container-id-2 input.sk-hidden--visually {border: 0;clip: rect(1px 1px 1px 1px);clip: rect(1px, 1px, 1px, 1px);height: 1px;margin: -1px;overflow: hidden;padding: 0;position: absolute;width: 1px;}#sk-container-id-2 div.sk-estimator {font-family: monospace;background-color: #f0f8ff;border: 1px dotted black;border-radius: 0.25em;box-sizing: border-box;margin-bottom: 0.5em;}#sk-container-id-2 div.sk-estimator:hover {background-color: #d4ebff;}#sk-container-id-2 div.sk-parallel-item::after {content: \"\";width: 100%;border-bottom: 1px solid gray;flex-grow: 1;}#sk-container-id-2 div.sk-label:hover label.sk-toggleable__label {background-color: #d4ebff;}#sk-container-id-2 div.sk-serial::before {content: \"\";position: absolute;border-left: 1px solid gray;box-sizing: border-box;top: 0;bottom: 0;left: 50%;z-index: 0;}#sk-container-id-2 div.sk-serial {display: flex;flex-direction: column;align-items: center;background-color: white;padding-right: 0.2em;padding-left: 0.2em;position: relative;}#sk-container-id-2 div.sk-item {position: relative;z-index: 1;}#sk-container-id-2 div.sk-parallel {display: flex;align-items: stretch;justify-content: center;background-color: white;position: relative;}#sk-container-id-2 div.sk-item::before, #sk-container-id-2 div.sk-parallel-item::before {content: \"\";position: absolute;border-left: 1px solid gray;box-sizing: border-box;top: 0;bottom: 0;left: 50%;z-index: -1;}#sk-container-id-2 div.sk-parallel-item {display: flex;flex-direction: column;z-index: 1;position: relative;background-color: white;}#sk-container-id-2 div.sk-parallel-item:first-child::after {align-self: flex-end;width: 50%;}#sk-container-id-2 div.sk-parallel-item:last-child::after {align-self: flex-start;width: 50%;}#sk-container-id-2 div.sk-parallel-item:only-child::after {width: 0;}#sk-container-id-2 div.sk-dashed-wrapped {border: 1px dashed gray;margin: 0 0.4em 0.5em 0.4em;box-sizing: border-box;padding-bottom: 0.4em;background-color: white;}#sk-container-id-2 div.sk-label label {font-family: monospace;font-weight: bold;display: inline-block;line-height: 1.2em;}#sk-container-id-2 div.sk-label-container {text-align: center;}#sk-container-id-2 div.sk-container {/* jupyter's `normalize.less` sets `[hidden] { display: none; }` but bootstrap.min.css set `[hidden] { display: none !important; }` so we also need the `!important` here to be able to override the default hidden behavior on the sphinx rendered scikit-learn.org. See: https://github.com/scikit-learn/scikit-learn/issues/21755 */display: inline-block !important;position: relative;}#sk-container-id-2 div.sk-text-repr-fallback {display: none;}</style><div id=\"sk-container-id-2\" class=\"sk-top-container\"><div class=\"sk-text-repr-fallback\"><pre>KNeighborsClassifier()</pre><b>In a Jupyter environment, please rerun this cell to show the HTML representation or trust the notebook. <br />On GitHub, the HTML representation is unable to render, please try loading this page with nbviewer.org.</b></div><div class=\"sk-container\" hidden><div class=\"sk-item\"><div class=\"sk-estimator sk-toggleable\"><input class=\"sk-toggleable__control sk-hidden--visually\" id=\"sk-estimator-id-2\" type=\"checkbox\" checked><label for=\"sk-estimator-id-2\" class=\"sk-toggleable__label sk-toggleable__label-arrow\">KNeighborsClassifier</label><div class=\"sk-toggleable__content\"><pre>KNeighborsClassifier()</pre></div></div></div></div></div>"
      ],
      "text/plain": [
       "KNeighborsClassifier()"
      ]
     },
     "execution_count": 13,
     "metadata": {},
     "output_type": "execute_result"
    }
   ],
   "source": [
    "classifier.fit(x_train,y_train)\n"
   ]
  },
  {
   "cell_type": "code",
   "execution_count": null,
   "id": "ebeabfa4",
   "metadata": {},
   "outputs": [],
   "source": []
  },
  {
   "cell_type": "code",
   "execution_count": 14,
   "id": "1eed5f42",
   "metadata": {},
   "outputs": [],
   "source": [
    "predictions=classifier.predict(x_test)\n"
   ]
  },
  {
   "cell_type": "code",
   "execution_count": 15,
   "id": "708033a1",
   "metadata": {},
   "outputs": [
    {
     "name": "stdout",
     "output_type": "stream",
     "text": [
      "0.9466666666666667\n"
     ]
    }
   ],
   "source": [
    "from sklearn.metrics import accuracy_score\n",
    "print(accuracy_score(y_test,predictions))"
   ]
  },
  {
   "cell_type": "markdown",
   "id": "0083e5f8",
   "metadata": {},
   "source": [
    "# LogisticRegression\n"
   ]
  },
  {
   "cell_type": "code",
   "execution_count": 16,
   "id": "d4b50b12",
   "metadata": {},
   "outputs": [],
   "source": [
    "from sklearn.linear_model import LogisticRegression\n",
    "from sklearn import metrics"
   ]
  },
  {
   "cell_type": "code",
   "execution_count": 18,
   "id": "99191a79",
   "metadata": {},
   "outputs": [
    {
     "data": {
      "text/html": [
       "<style>#sk-container-id-3 {color: black;background-color: white;}#sk-container-id-3 pre{padding: 0;}#sk-container-id-3 div.sk-toggleable {background-color: white;}#sk-container-id-3 label.sk-toggleable__label {cursor: pointer;display: block;width: 100%;margin-bottom: 0;padding: 0.3em;box-sizing: border-box;text-align: center;}#sk-container-id-3 label.sk-toggleable__label-arrow:before {content: \"▸\";float: left;margin-right: 0.25em;color: #696969;}#sk-container-id-3 label.sk-toggleable__label-arrow:hover:before {color: black;}#sk-container-id-3 div.sk-estimator:hover label.sk-toggleable__label-arrow:before {color: black;}#sk-container-id-3 div.sk-toggleable__content {max-height: 0;max-width: 0;overflow: hidden;text-align: left;background-color: #f0f8ff;}#sk-container-id-3 div.sk-toggleable__content pre {margin: 0.2em;color: black;border-radius: 0.25em;background-color: #f0f8ff;}#sk-container-id-3 input.sk-toggleable__control:checked~div.sk-toggleable__content {max-height: 200px;max-width: 100%;overflow: auto;}#sk-container-id-3 input.sk-toggleable__control:checked~label.sk-toggleable__label-arrow:before {content: \"▾\";}#sk-container-id-3 div.sk-estimator input.sk-toggleable__control:checked~label.sk-toggleable__label {background-color: #d4ebff;}#sk-container-id-3 div.sk-label input.sk-toggleable__control:checked~label.sk-toggleable__label {background-color: #d4ebff;}#sk-container-id-3 input.sk-hidden--visually {border: 0;clip: rect(1px 1px 1px 1px);clip: rect(1px, 1px, 1px, 1px);height: 1px;margin: -1px;overflow: hidden;padding: 0;position: absolute;width: 1px;}#sk-container-id-3 div.sk-estimator {font-family: monospace;background-color: #f0f8ff;border: 1px dotted black;border-radius: 0.25em;box-sizing: border-box;margin-bottom: 0.5em;}#sk-container-id-3 div.sk-estimator:hover {background-color: #d4ebff;}#sk-container-id-3 div.sk-parallel-item::after {content: \"\";width: 100%;border-bottom: 1px solid gray;flex-grow: 1;}#sk-container-id-3 div.sk-label:hover label.sk-toggleable__label {background-color: #d4ebff;}#sk-container-id-3 div.sk-serial::before {content: \"\";position: absolute;border-left: 1px solid gray;box-sizing: border-box;top: 0;bottom: 0;left: 50%;z-index: 0;}#sk-container-id-3 div.sk-serial {display: flex;flex-direction: column;align-items: center;background-color: white;padding-right: 0.2em;padding-left: 0.2em;position: relative;}#sk-container-id-3 div.sk-item {position: relative;z-index: 1;}#sk-container-id-3 div.sk-parallel {display: flex;align-items: stretch;justify-content: center;background-color: white;position: relative;}#sk-container-id-3 div.sk-item::before, #sk-container-id-3 div.sk-parallel-item::before {content: \"\";position: absolute;border-left: 1px solid gray;box-sizing: border-box;top: 0;bottom: 0;left: 50%;z-index: -1;}#sk-container-id-3 div.sk-parallel-item {display: flex;flex-direction: column;z-index: 1;position: relative;background-color: white;}#sk-container-id-3 div.sk-parallel-item:first-child::after {align-self: flex-end;width: 50%;}#sk-container-id-3 div.sk-parallel-item:last-child::after {align-self: flex-start;width: 50%;}#sk-container-id-3 div.sk-parallel-item:only-child::after {width: 0;}#sk-container-id-3 div.sk-dashed-wrapped {border: 1px dashed gray;margin: 0 0.4em 0.5em 0.4em;box-sizing: border-box;padding-bottom: 0.4em;background-color: white;}#sk-container-id-3 div.sk-label label {font-family: monospace;font-weight: bold;display: inline-block;line-height: 1.2em;}#sk-container-id-3 div.sk-label-container {text-align: center;}#sk-container-id-3 div.sk-container {/* jupyter's `normalize.less` sets `[hidden] { display: none; }` but bootstrap.min.css set `[hidden] { display: none !important; }` so we also need the `!important` here to be able to override the default hidden behavior on the sphinx rendered scikit-learn.org. See: https://github.com/scikit-learn/scikit-learn/issues/21755 */display: inline-block !important;position: relative;}#sk-container-id-3 div.sk-text-repr-fallback {display: none;}</style><div id=\"sk-container-id-3\" class=\"sk-top-container\"><div class=\"sk-text-repr-fallback\"><pre>LogisticRegression()</pre><b>In a Jupyter environment, please rerun this cell to show the HTML representation or trust the notebook. <br />On GitHub, the HTML representation is unable to render, please try loading this page with nbviewer.org.</b></div><div class=\"sk-container\" hidden><div class=\"sk-item\"><div class=\"sk-estimator sk-toggleable\"><input class=\"sk-toggleable__control sk-hidden--visually\" id=\"sk-estimator-id-3\" type=\"checkbox\" checked><label for=\"sk-estimator-id-3\" class=\"sk-toggleable__label sk-toggleable__label-arrow\">LogisticRegression</label><div class=\"sk-toggleable__content\"><pre>LogisticRegression()</pre></div></div></div></div></div>"
      ],
      "text/plain": [
       "LogisticRegression()"
      ]
     },
     "execution_count": 18,
     "metadata": {},
     "output_type": "execute_result"
    }
   ],
   "source": [
    "logreg = LogisticRegression()\n",
    "logreg.fit(x_train, y_train)"
   ]
  },
  {
   "cell_type": "code",
   "execution_count": 21,
   "id": "0082f392",
   "metadata": {},
   "outputs": [
    {
     "name": "stdout",
     "output_type": "stream",
     "text": [
      "Accuracy of logistic regression classifier on test set: 0.99\n"
     ]
    }
   ],
   "source": [
    "y_pred = logreg.predict(x_test)\n",
    "print('Accuracy of logistic regression classifier on test set: {:.2f}'.format(logreg.score(x_test, y_test)))"
   ]
  },
  {
   "cell_type": "code",
   "execution_count": 22,
   "id": "76daa564",
   "metadata": {},
   "outputs": [
    {
     "name": "stdout",
     "output_type": "stream",
     "text": [
      "              precision    recall  f1-score   support\n",
      "\n",
      "           0       1.00      1.00      1.00        27\n",
      "           1       0.96      1.00      0.98        25\n",
      "           2       1.00      0.96      0.98        23\n",
      "\n",
      "    accuracy                           0.99        75\n",
      "   macro avg       0.99      0.99      0.99        75\n",
      "weighted avg       0.99      0.99      0.99        75\n",
      "\n"
     ]
    }
   ],
   "source": [
    "from sklearn.metrics import classification_report\n",
    "print(classification_report(y_test, y_pred))"
   ]
  },
  {
   "cell_type": "markdown",
   "id": "0aad5466",
   "metadata": {},
   "source": [
    "# neural network\n"
   ]
  },
  {
   "cell_type": "code",
   "execution_count": 25,
   "id": "81f5432e",
   "metadata": {},
   "outputs": [],
   "source": [
    "from keras.models import Sequential\n",
    "from keras.layers import Dense\n",
    "from keras.utils import to_categorical\n",
    "import numpy as np"
   ]
  },
  {
   "cell_type": "code",
   "execution_count": 26,
   "id": "441dc4f8",
   "metadata": {},
   "outputs": [],
   "source": [
    "x_train = np.array(x_train)\n",
    "model = Sequential()\n",
    "model.add(Dense(4, input_dim=4 ,activation='relu'))\n",
    "model.add(Dense(7, activation='relu'))\n",
    "model.add(Dense(3, activation='softmax'))\n",
    "model.compile(loss='binary_crossentropy', optimizer='adam', metrics=['accuracy'])"
   ]
  },
  {
   "cell_type": "code",
   "execution_count": 27,
   "id": "6a0209cd",
   "metadata": {},
   "outputs": [
    {
     "name": "stdout",
     "output_type": "stream",
     "text": [
      "Epoch 1/149\n",
      "19/19 [==============================] - 2s 4ms/step - loss: 1.2436 - accuracy: 0.3600\n",
      "Epoch 2/149\n",
      "19/19 [==============================] - 0s 3ms/step - loss: 0.9911 - accuracy: 0.3600\n",
      "Epoch 3/149\n",
      "19/19 [==============================] - 0s 3ms/step - loss: 0.8243 - accuracy: 0.3600\n",
      "Epoch 4/149\n",
      "19/19 [==============================] - 0s 3ms/step - loss: 0.7160 - accuracy: 0.3600\n",
      "Epoch 5/149\n",
      "19/19 [==============================] - 0s 4ms/step - loss: 0.6453 - accuracy: 0.3600\n",
      "Epoch 6/149\n",
      "19/19 [==============================] - 0s 3ms/step - loss: 0.5965 - accuracy: 0.3600\n",
      "Epoch 7/149\n",
      "19/19 [==============================] - 0s 3ms/step - loss: 0.5651 - accuracy: 0.3600\n",
      "Epoch 8/149\n",
      "19/19 [==============================] - 0s 5ms/step - loss: 0.5461 - accuracy: 0.3867\n",
      "Epoch 9/149\n",
      "19/19 [==============================] - 0s 4ms/step - loss: 0.5299 - accuracy: 0.5467\n",
      "Epoch 10/149\n",
      "19/19 [==============================] - 0s 5ms/step - loss: 0.5138 - accuracy: 0.6667\n",
      "Epoch 11/149\n",
      "19/19 [==============================] - 0s 5ms/step - loss: 0.5005 - accuracy: 0.6667\n",
      "Epoch 12/149\n",
      "19/19 [==============================] - 0s 4ms/step - loss: 0.4888 - accuracy: 0.6667\n",
      "Epoch 13/149\n",
      "19/19 [==============================] - 0s 4ms/step - loss: 0.4766 - accuracy: 0.6667\n",
      "Epoch 14/149\n",
      "19/19 [==============================] - 0s 5ms/step - loss: 0.4659 - accuracy: 0.6667\n",
      "Epoch 15/149\n",
      "19/19 [==============================] - 0s 4ms/step - loss: 0.4561 - accuracy: 0.6667\n",
      "Epoch 16/149\n",
      "19/19 [==============================] - 0s 3ms/step - loss: 0.4488 - accuracy: 0.6667\n",
      "Epoch 17/149\n",
      "19/19 [==============================] - 0s 4ms/step - loss: 0.4359 - accuracy: 0.6667\n",
      "Epoch 18/149\n",
      "19/19 [==============================] - 0s 3ms/step - loss: 0.4258 - accuracy: 0.6667\n",
      "Epoch 19/149\n",
      "19/19 [==============================] - 0s 4ms/step - loss: 0.4164 - accuracy: 0.6667\n",
      "Epoch 20/149\n",
      "19/19 [==============================] - 0s 3ms/step - loss: 0.4077 - accuracy: 0.6667\n",
      "Epoch 21/149\n",
      "19/19 [==============================] - 0s 4ms/step - loss: 0.4002 - accuracy: 0.6667\n",
      "Epoch 22/149\n",
      "19/19 [==============================] - 0s 4ms/step - loss: 0.3914 - accuracy: 0.6667\n",
      "Epoch 23/149\n",
      "19/19 [==============================] - 0s 3ms/step - loss: 0.3846 - accuracy: 0.6667\n",
      "Epoch 24/149\n",
      "19/19 [==============================] - 0s 4ms/step - loss: 0.3796 - accuracy: 0.6800\n",
      "Epoch 25/149\n",
      "19/19 [==============================] - 0s 4ms/step - loss: 0.3712 - accuracy: 0.6800\n",
      "Epoch 26/149\n",
      "19/19 [==============================] - 0s 4ms/step - loss: 0.3669 - accuracy: 0.6667\n",
      "Epoch 27/149\n",
      "19/19 [==============================] - 0s 4ms/step - loss: 0.3593 - accuracy: 0.6667\n",
      "Epoch 28/149\n",
      "19/19 [==============================] - 0s 4ms/step - loss: 0.3552 - accuracy: 0.7067\n",
      "Epoch 29/149\n",
      "19/19 [==============================] - 0s 4ms/step - loss: 0.3492 - accuracy: 0.6667\n",
      "Epoch 30/149\n",
      "19/19 [==============================] - 0s 3ms/step - loss: 0.3445 - accuracy: 0.6667\n",
      "Epoch 31/149\n",
      "19/19 [==============================] - 0s 4ms/step - loss: 0.3404 - accuracy: 0.6800\n",
      "Epoch 32/149\n",
      "19/19 [==============================] - 0s 3ms/step - loss: 0.3372 - accuracy: 0.6800\n",
      "Epoch 33/149\n",
      "19/19 [==============================] - 0s 4ms/step - loss: 0.3331 - accuracy: 0.6800\n",
      "Epoch 34/149\n",
      "19/19 [==============================] - 0s 4ms/step - loss: 0.3299 - accuracy: 0.7467\n",
      "Epoch 35/149\n",
      "19/19 [==============================] - 0s 4ms/step - loss: 0.3253 - accuracy: 0.7333\n",
      "Epoch 36/149\n",
      "19/19 [==============================] - 0s 4ms/step - loss: 0.3232 - accuracy: 0.6800\n",
      "Epoch 37/149\n",
      "19/19 [==============================] - 0s 4ms/step - loss: 0.3212 - accuracy: 0.7467\n",
      "Epoch 38/149\n",
      "19/19 [==============================] - 0s 3ms/step - loss: 0.3172 - accuracy: 0.7067\n",
      "Epoch 39/149\n",
      "19/19 [==============================] - 0s 3ms/step - loss: 0.3148 - accuracy: 0.7333\n",
      "Epoch 40/149\n",
      "19/19 [==============================] - 0s 3ms/step - loss: 0.3126 - accuracy: 0.8133\n",
      "Epoch 41/149\n",
      "19/19 [==============================] - 0s 4ms/step - loss: 0.3108 - accuracy: 0.7067\n",
      "Epoch 42/149\n",
      "19/19 [==============================] - 0s 4ms/step - loss: 0.3084 - accuracy: 0.7733\n",
      "Epoch 43/149\n",
      "19/19 [==============================] - 0s 3ms/step - loss: 0.3060 - accuracy: 0.7867\n",
      "Epoch 44/149\n",
      "19/19 [==============================] - 0s 4ms/step - loss: 0.3035 - accuracy: 0.8267\n",
      "Epoch 45/149\n",
      "19/19 [==============================] - 0s 3ms/step - loss: 0.3021 - accuracy: 0.8267\n",
      "Epoch 46/149\n",
      "19/19 [==============================] - 0s 5ms/step - loss: 0.3010 - accuracy: 0.7333\n",
      "Epoch 47/149\n",
      "19/19 [==============================] - 0s 4ms/step - loss: 0.2974 - accuracy: 0.7867\n",
      "Epoch 48/149\n",
      "19/19 [==============================] - 0s 4ms/step - loss: 0.2972 - accuracy: 0.8000\n",
      "Epoch 49/149\n",
      "19/19 [==============================] - 0s 4ms/step - loss: 0.2956 - accuracy: 0.9200\n",
      "Epoch 50/149\n",
      "19/19 [==============================] - 0s 4ms/step - loss: 0.2934 - accuracy: 0.8533\n",
      "Epoch 51/149\n",
      "19/19 [==============================] - 0s 4ms/step - loss: 0.2927 - accuracy: 0.8800\n",
      "Epoch 52/149\n",
      "19/19 [==============================] - 0s 3ms/step - loss: 0.2907 - accuracy: 0.8400\n",
      "Epoch 53/149\n",
      "19/19 [==============================] - 0s 4ms/step - loss: 0.2887 - accuracy: 0.8400\n",
      "Epoch 54/149\n",
      "19/19 [==============================] - 0s 3ms/step - loss: 0.2892 - accuracy: 0.7467\n",
      "Epoch 55/149\n",
      "19/19 [==============================] - 0s 3ms/step - loss: 0.2857 - accuracy: 0.8267\n",
      "Epoch 56/149\n",
      "19/19 [==============================] - 0s 3ms/step - loss: 0.2854 - accuracy: 0.8533\n",
      "Epoch 57/149\n",
      "19/19 [==============================] - 0s 3ms/step - loss: 0.2839 - accuracy: 0.8533\n",
      "Epoch 58/149\n",
      "19/19 [==============================] - 0s 4ms/step - loss: 0.2821 - accuracy: 0.9200\n",
      "Epoch 59/149\n",
      "19/19 [==============================] - 0s 5ms/step - loss: 0.2810 - accuracy: 0.8667\n",
      "Epoch 60/149\n",
      "19/19 [==============================] - 0s 3ms/step - loss: 0.2800 - accuracy: 0.9467\n",
      "Epoch 61/149\n",
      "19/19 [==============================] - 0s 3ms/step - loss: 0.2804 - accuracy: 0.8400\n",
      "Epoch 62/149\n",
      "19/19 [==============================] - 0s 4ms/step - loss: 0.2757 - accuracy: 0.8933\n",
      "Epoch 63/149\n",
      "19/19 [==============================] - 0s 3ms/step - loss: 0.2759 - accuracy: 0.9333\n",
      "Epoch 64/149\n",
      "19/19 [==============================] - 0s 3ms/step - loss: 0.2788 - accuracy: 0.8400\n",
      "Epoch 65/149\n",
      "19/19 [==============================] - 0s 3ms/step - loss: 0.2736 - accuracy: 0.9333\n",
      "Epoch 66/149\n",
      "19/19 [==============================] - 0s 4ms/step - loss: 0.2715 - accuracy: 0.9333\n",
      "Epoch 67/149\n",
      "19/19 [==============================] - 0s 4ms/step - loss: 0.2705 - accuracy: 0.9200\n",
      "Epoch 68/149\n",
      "19/19 [==============================] - 0s 3ms/step - loss: 0.2690 - accuracy: 0.9200\n",
      "Epoch 69/149\n",
      "19/19 [==============================] - 0s 4ms/step - loss: 0.2711 - accuracy: 0.8800\n",
      "Epoch 70/149\n",
      "19/19 [==============================] - 0s 3ms/step - loss: 0.2714 - accuracy: 0.8267\n",
      "Epoch 71/149\n",
      "19/19 [==============================] - 0s 3ms/step - loss: 0.2664 - accuracy: 0.8800\n",
      "Epoch 72/149\n",
      "19/19 [==============================] - 0s 4ms/step - loss: 0.2653 - accuracy: 0.9333\n",
      "Epoch 73/149\n",
      "19/19 [==============================] - 0s 3ms/step - loss: 0.2639 - accuracy: 0.9467\n",
      "Epoch 74/149\n",
      "19/19 [==============================] - 0s 3ms/step - loss: 0.2636 - accuracy: 0.8667\n",
      "Epoch 75/149\n",
      "19/19 [==============================] - 0s 3ms/step - loss: 0.2613 - accuracy: 0.9333\n",
      "Epoch 76/149\n",
      "19/19 [==============================] - 0s 5ms/step - loss: 0.2612 - accuracy: 0.9333\n",
      "Epoch 77/149\n",
      "19/19 [==============================] - 0s 3ms/step - loss: 0.2614 - accuracy: 0.9333\n",
      "Epoch 78/149\n",
      "19/19 [==============================] - 0s 3ms/step - loss: 0.2582 - accuracy: 0.9200\n",
      "Epoch 79/149\n",
      "19/19 [==============================] - 0s 3ms/step - loss: 0.2581 - accuracy: 0.8933\n",
      "Epoch 80/149\n",
      "19/19 [==============================] - 0s 4ms/step - loss: 0.2571 - accuracy: 0.9467\n",
      "Epoch 81/149\n",
      "19/19 [==============================] - 0s 3ms/step - loss: 0.2575 - accuracy: 0.9600\n",
      "Epoch 82/149\n",
      "19/19 [==============================] - 0s 4ms/step - loss: 0.2531 - accuracy: 0.9467\n",
      "Epoch 83/149\n"
     ]
    },
    {
     "name": "stdout",
     "output_type": "stream",
     "text": [
      "19/19 [==============================] - 0s 3ms/step - loss: 0.2516 - accuracy: 0.9200\n",
      "Epoch 84/149\n",
      "19/19 [==============================] - 0s 4ms/step - loss: 0.2533 - accuracy: 0.9333\n",
      "Epoch 85/149\n",
      "19/19 [==============================] - 0s 4ms/step - loss: 0.2542 - accuracy: 0.8667\n",
      "Epoch 86/149\n",
      "19/19 [==============================] - 0s 3ms/step - loss: 0.2461 - accuracy: 0.9467\n",
      "Epoch 87/149\n",
      "19/19 [==============================] - 0s 4ms/step - loss: 0.2491 - accuracy: 0.9733\n",
      "Epoch 88/149\n",
      "19/19 [==============================] - 0s 4ms/step - loss: 0.2459 - accuracy: 0.9333\n",
      "Epoch 89/149\n",
      "19/19 [==============================] - 0s 3ms/step - loss: 0.2449 - accuracy: 0.9467\n",
      "Epoch 90/149\n",
      "19/19 [==============================] - 0s 4ms/step - loss: 0.2429 - accuracy: 0.9333\n",
      "Epoch 91/149\n",
      "19/19 [==============================] - 0s 4ms/step - loss: 0.2428 - accuracy: 0.9600\n",
      "Epoch 92/149\n",
      "19/19 [==============================] - 0s 3ms/step - loss: 0.2419 - accuracy: 0.9333\n",
      "Epoch 93/149\n",
      "19/19 [==============================] - 0s 3ms/step - loss: 0.2388 - accuracy: 0.9333\n",
      "Epoch 94/149\n",
      "19/19 [==============================] - 0s 4ms/step - loss: 0.2403 - accuracy: 0.9733\n",
      "Epoch 95/149\n",
      "19/19 [==============================] - 0s 4ms/step - loss: 0.2387 - accuracy: 0.9467\n",
      "Epoch 96/149\n",
      "19/19 [==============================] - 0s 4ms/step - loss: 0.2367 - accuracy: 0.9600\n",
      "Epoch 97/149\n",
      "19/19 [==============================] - 0s 4ms/step - loss: 0.2341 - accuracy: 0.9333\n",
      "Epoch 98/149\n",
      "19/19 [==============================] - 0s 2ms/step - loss: 0.2345 - accuracy: 0.9333\n",
      "Epoch 99/149\n",
      "19/19 [==============================] - 0s 3ms/step - loss: 0.2315 - accuracy: 0.9467\n",
      "Epoch 100/149\n",
      "19/19 [==============================] - 0s 3ms/step - loss: 0.2296 - accuracy: 0.9600\n",
      "Epoch 101/149\n",
      "19/19 [==============================] - 0s 3ms/step - loss: 0.2314 - accuracy: 0.9600\n",
      "Epoch 102/149\n",
      "19/19 [==============================] - 0s 4ms/step - loss: 0.2294 - accuracy: 0.9467\n",
      "Epoch 103/149\n",
      "19/19 [==============================] - 0s 4ms/step - loss: 0.2267 - accuracy: 0.9600\n",
      "Epoch 104/149\n",
      "19/19 [==============================] - 0s 3ms/step - loss: 0.2248 - accuracy: 0.9733\n",
      "Epoch 105/149\n",
      "19/19 [==============================] - 0s 3ms/step - loss: 0.2233 - accuracy: 0.9467\n",
      "Epoch 106/149\n",
      "19/19 [==============================] - 0s 4ms/step - loss: 0.2232 - accuracy: 0.9467\n",
      "Epoch 107/149\n",
      "19/19 [==============================] - 0s 4ms/step - loss: 0.2240 - accuracy: 0.9333\n",
      "Epoch 108/149\n",
      "19/19 [==============================] - 0s 4ms/step - loss: 0.2234 - accuracy: 0.9333\n",
      "Epoch 109/149\n",
      "19/19 [==============================] - 0s 4ms/step - loss: 0.2183 - accuracy: 0.9733\n",
      "Epoch 110/149\n",
      "19/19 [==============================] - 0s 4ms/step - loss: 0.2175 - accuracy: 0.9467\n",
      "Epoch 111/149\n",
      "19/19 [==============================] - 0s 4ms/step - loss: 0.2189 - accuracy: 0.9467\n",
      "Epoch 112/149\n",
      "19/19 [==============================] - 0s 4ms/step - loss: 0.2167 - accuracy: 0.9600\n",
      "Epoch 113/149\n",
      "19/19 [==============================] - 0s 4ms/step - loss: 0.2129 - accuracy: 0.9733\n",
      "Epoch 114/149\n",
      "19/19 [==============================] - 0s 3ms/step - loss: 0.2128 - accuracy: 0.9333\n",
      "Epoch 115/149\n",
      "19/19 [==============================] - 0s 4ms/step - loss: 0.2151 - accuracy: 0.9733\n",
      "Epoch 116/149\n",
      "19/19 [==============================] - 0s 3ms/step - loss: 0.2109 - accuracy: 0.9333\n",
      "Epoch 117/149\n",
      "19/19 [==============================] - 0s 3ms/step - loss: 0.2072 - accuracy: 0.9733\n",
      "Epoch 118/149\n",
      "19/19 [==============================] - 0s 4ms/step - loss: 0.2076 - accuracy: 0.9467\n",
      "Epoch 119/149\n",
      "19/19 [==============================] - 0s 4ms/step - loss: 0.2040 - accuracy: 0.9600\n",
      "Epoch 120/149\n",
      "19/19 [==============================] - 0s 4ms/step - loss: 0.2099 - accuracy: 0.9467\n",
      "Epoch 121/149\n",
      "19/19 [==============================] - 0s 4ms/step - loss: 0.2019 - accuracy: 0.9600\n",
      "Epoch 122/149\n",
      "19/19 [==============================] - 0s 4ms/step - loss: 0.2012 - accuracy: 0.9467\n",
      "Epoch 123/149\n",
      "19/19 [==============================] - 0s 4ms/step - loss: 0.1993 - accuracy: 0.9733\n",
      "Epoch 124/149\n",
      "19/19 [==============================] - 0s 3ms/step - loss: 0.2006 - accuracy: 0.9467\n",
      "Epoch 125/149\n",
      "19/19 [==============================] - 0s 3ms/step - loss: 0.1967 - accuracy: 0.9733\n",
      "Epoch 126/149\n",
      "19/19 [==============================] - 0s 4ms/step - loss: 0.1949 - accuracy: 0.9600\n",
      "Epoch 127/149\n",
      "19/19 [==============================] - 0s 4ms/step - loss: 0.1948 - accuracy: 0.9733\n",
      "Epoch 128/149\n",
      "19/19 [==============================] - 0s 4ms/step - loss: 0.1913 - accuracy: 0.9600\n",
      "Epoch 129/149\n",
      "19/19 [==============================] - 0s 4ms/step - loss: 0.1918 - accuracy: 0.9600\n",
      "Epoch 130/149\n",
      "19/19 [==============================] - 0s 4ms/step - loss: 0.1962 - accuracy: 0.9333\n",
      "Epoch 131/149\n",
      "19/19 [==============================] - 0s 4ms/step - loss: 0.1867 - accuracy: 0.9600\n",
      "Epoch 132/149\n",
      "19/19 [==============================] - 0s 3ms/step - loss: 0.1862 - accuracy: 0.9600\n",
      "Epoch 133/149\n",
      "19/19 [==============================] - 0s 5ms/step - loss: 0.1848 - accuracy: 0.9600\n",
      "Epoch 134/149\n",
      "19/19 [==============================] - 0s 3ms/step - loss: 0.1836 - accuracy: 0.9467\n",
      "Epoch 135/149\n",
      "19/19 [==============================] - 0s 3ms/step - loss: 0.1819 - accuracy: 0.9733\n",
      "Epoch 136/149\n",
      "19/19 [==============================] - 0s 4ms/step - loss: 0.1835 - accuracy: 0.9467\n",
      "Epoch 137/149\n",
      "19/19 [==============================] - 0s 4ms/step - loss: 0.1820 - accuracy: 0.9600\n",
      "Epoch 138/149\n",
      "19/19 [==============================] - 0s 4ms/step - loss: 0.1772 - accuracy: 0.9733\n",
      "Epoch 139/149\n",
      "19/19 [==============================] - 0s 3ms/step - loss: 0.1777 - accuracy: 0.9600\n",
      "Epoch 140/149\n",
      "19/19 [==============================] - 0s 4ms/step - loss: 0.1741 - accuracy: 0.9733\n",
      "Epoch 141/149\n",
      "19/19 [==============================] - 0s 4ms/step - loss: 0.1733 - accuracy: 0.9733\n",
      "Epoch 142/149\n",
      "19/19 [==============================] - 0s 4ms/step - loss: 0.1720 - accuracy: 0.9733\n",
      "Epoch 143/149\n",
      "19/19 [==============================] - 0s 4ms/step - loss: 0.1712 - accuracy: 0.9733\n",
      "Epoch 144/149\n",
      "19/19 [==============================] - 0s 3ms/step - loss: 0.1686 - accuracy: 0.9733\n",
      "Epoch 145/149\n",
      "19/19 [==============================] - 0s 3ms/step - loss: 0.1674 - accuracy: 0.9733\n",
      "Epoch 146/149\n",
      "19/19 [==============================] - 0s 4ms/step - loss: 0.1679 - accuracy: 0.9600\n",
      "Epoch 147/149\n",
      "19/19 [==============================] - 0s 4ms/step - loss: 0.1642 - accuracy: 0.9600\n",
      "Epoch 148/149\n",
      "19/19 [==============================] - 0s 3ms/step - loss: 0.1624 - accuracy: 0.9733\n",
      "Epoch 149/149\n",
      "19/19 [==============================] - 0s 3ms/step - loss: 0.1617 - accuracy: 0.9733\n"
     ]
    },
    {
     "data": {
      "text/plain": [
       "<keras.callbacks.History at 0x1c98be8df30>"
      ]
     },
     "execution_count": 27,
     "metadata": {},
     "output_type": "execute_result"
    }
   ],
   "source": [
    "y_test_cat=to_categorical(y_test)\n",
    "y_train_cat=to_categorical(y_train)\n",
    "model.fit(x_train, y_train_cat, epochs=149, batch_size=4)"
   ]
  },
  {
   "cell_type": "code",
   "execution_count": 29,
   "id": "f54dc7d1",
   "metadata": {},
   "outputs": [
    {
     "name": "stdout",
     "output_type": "stream",
     "text": [
      "3/3 [==============================] - 0s 9ms/step - loss: 0.1600 - accuracy: 0.9733\n",
      "Accuracy: 97.33\n"
     ]
    }
   ],
   "source": [
    "_, accuracy = model.evaluate(x_train, y_train_cat)\n",
    "print('Accuracy: %.2f' % (accuracy*100))"
   ]
  },
  {
   "cell_type": "code",
   "execution_count": 31,
   "id": "116dbd54",
   "metadata": {},
   "outputs": [
    {
     "name": "stdout",
     "output_type": "stream",
     "text": [
      "3/3 [==============================] - 0s 6ms/step - loss: 0.1453 - accuracy: 0.9867\n",
      "Accuracy: 98.67\n"
     ]
    }
   ],
   "source": [
    "_, accuracy = model.evaluate(x_test, y_test_cat)\n",
    "print('Accuracy: %.2f' % (accuracy*100))"
   ]
  },
  {
   "cell_type": "code",
   "execution_count": 32,
   "id": "c5b3bb17",
   "metadata": {},
   "outputs": [
    {
     "data": {
      "text/plain": [
       "array([[0., 0., 1.],\n",
       "       [1., 0., 0.],\n",
       "       [0., 1., 0.],\n",
       "       [0., 1., 0.],\n",
       "       [1., 0., 0.],\n",
       "       [1., 0., 0.],\n",
       "       [1., 0., 0.],\n",
       "       [0., 1., 0.],\n",
       "       [1., 0., 0.],\n",
       "       [1., 0., 0.],\n",
       "       [0., 1., 0.],\n",
       "       [1., 0., 0.],\n",
       "       [0., 1., 0.],\n",
       "       [1., 0., 0.],\n",
       "       [0., 1., 0.],\n",
       "       [0., 0., 1.],\n",
       "       [0., 0., 1.],\n",
       "       [1., 0., 0.],\n",
       "       [1., 0., 0.],\n",
       "       [0., 1., 0.],\n",
       "       [1., 0., 0.],\n",
       "       [0., 1., 0.],\n",
       "       [0., 1., 0.],\n",
       "       [0., 0., 1.],\n",
       "       [0., 1., 0.],\n",
       "       [0., 0., 1.],\n",
       "       [0., 0., 1.],\n",
       "       [0., 0., 1.],\n",
       "       [0., 0., 1.],\n",
       "       [1., 0., 0.],\n",
       "       [1., 0., 0.],\n",
       "       [0., 0., 1.],\n",
       "       [1., 0., 0.],\n",
       "       [0., 1., 0.],\n",
       "       [0., 0., 1.],\n",
       "       [1., 0., 0.],\n",
       "       [0., 0., 1.],\n",
       "       [0., 0., 1.],\n",
       "       [0., 0., 1.],\n",
       "       [1., 0., 0.],\n",
       "       [0., 1., 0.],\n",
       "       [0., 0., 1.],\n",
       "       [0., 0., 1.],\n",
       "       [0., 1., 0.],\n",
       "       [0., 1., 0.],\n",
       "       [1., 0., 0.],\n",
       "       [0., 0., 1.],\n",
       "       [0., 1., 0.],\n",
       "       [1., 0., 0.],\n",
       "       [1., 0., 0.],\n",
       "       [1., 0., 0.],\n",
       "       [1., 0., 0.],\n",
       "       [0., 0., 1.],\n",
       "       [0., 1., 0.],\n",
       "       [0., 0., 1.],\n",
       "       [1., 0., 0.],\n",
       "       [0., 1., 0.],\n",
       "       [1., 0., 0.],\n",
       "       [1., 0., 0.],\n",
       "       [0., 1., 0.],\n",
       "       [0., 1., 0.],\n",
       "       [1., 0., 0.],\n",
       "       [0., 1., 0.],\n",
       "       [0., 0., 1.],\n",
       "       [0., 0., 1.],\n",
       "       [0., 0., 1.],\n",
       "       [0., 0., 1.],\n",
       "       [0., 1., 0.],\n",
       "       [0., 1., 0.],\n",
       "       [0., 1., 0.],\n",
       "       [1., 0., 0.],\n",
       "       [0., 1., 0.],\n",
       "       [0., 1., 0.],\n",
       "       [1., 0., 0.],\n",
       "       [0., 0., 1.]], dtype=float32)"
      ]
     },
     "execution_count": 32,
     "metadata": {},
     "output_type": "execute_result"
    }
   ],
   "source": []
  },
  {
   "cell_type": "code",
   "execution_count": null,
   "id": "0159f256",
   "metadata": {},
   "outputs": [],
   "source": []
  }
 ],
 "metadata": {
  "kernelspec": {
   "display_name": "pytorch1",
   "language": "python",
   "name": "pytorch1"
  },
  "language_info": {
   "codemirror_mode": {
    "name": "ipython",
    "version": 3
   },
   "file_extension": ".py",
   "mimetype": "text/x-python",
   "name": "python",
   "nbconvert_exporter": "python",
   "pygments_lexer": "ipython3",
   "version": "3.10.8"
  }
 },
 "nbformat": 4,
 "nbformat_minor": 5
}
