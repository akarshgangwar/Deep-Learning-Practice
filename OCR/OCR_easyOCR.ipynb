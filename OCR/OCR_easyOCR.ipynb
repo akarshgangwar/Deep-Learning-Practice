{
 "cells": [
  {
   "cell_type": "code",
   "execution_count": 1,
   "id": "1fa8142d",
   "metadata": {},
   "outputs": [
    {
     "name": "stdout",
     "output_type": "stream",
     "text": [
      "Collecting easyocr\n",
      "  Downloading easyocr-1.6.2-py3-none-any.whl (2.9 MB)\n",
      "     ---------------------------------------- 2.9/2.9 MB 2.4 MB/s eta 0:00:00\n",
      "Collecting scikit-image\n",
      "  Downloading scikit_image-0.19.3-cp310-cp310-win_amd64.whl (12.0 MB)\n",
      "     ---------------------------------------- 12.0/12.0 MB 1.1 MB/s eta 0:00:00\n",
      "Collecting python-bidi\n",
      "  Downloading python_bidi-0.4.2-py2.py3-none-any.whl (30 kB)\n",
      "Collecting scipy\n",
      "  Downloading scipy-1.9.3-cp310-cp310-win_amd64.whl (40.1 MB)\n",
      "     ---------------------------------------- 40.1/40.1 MB 2.9 MB/s eta 0:00:00\n",
      "Collecting ninja\n",
      "  Downloading ninja-1.11.1-py2.py3-none-win_amd64.whl (313 kB)\n",
      "     -------------------------------------- 313.0/313.0 kB 3.9 MB/s eta 0:00:00\n",
      "Collecting opencv-python-headless<=4.5.4.60\n",
      "  Downloading opencv_python_headless-4.5.4.60-cp310-cp310-win_amd64.whl (35.0 MB)\n",
      "     ---------------------------------------- 35.0/35.0 MB 3.0 MB/s eta 0:00:00\n",
      "Requirement already satisfied: torch in c:\\users\\welcome\\anaconda3\\envs\\pytorch1\\lib\\site-packages (from easyocr) (1.13.1)\n",
      "Requirement already satisfied: Pillow in c:\\users\\welcome\\anaconda3\\envs\\pytorch1\\lib\\site-packages (from easyocr) (9.3.0)\n",
      "Collecting PyYAML\n",
      "  Downloading PyYAML-6.0-cp310-cp310-win_amd64.whl (151 kB)\n",
      "     -------------------------------------- 151.7/151.7 kB 4.6 MB/s eta 0:00:00\n",
      "Requirement already satisfied: torchvision>=0.5 in c:\\users\\welcome\\anaconda3\\envs\\pytorch1\\lib\\site-packages (from easyocr) (0.14.1)\n",
      "Requirement already satisfied: numpy in c:\\users\\welcome\\anaconda3\\envs\\pytorch1\\lib\\site-packages (from easyocr) (1.23.4)\n",
      "Collecting Shapely\n",
      "  Downloading shapely-2.0.0-cp310-cp310-win_amd64.whl (1.4 MB)\n",
      "     ---------------------------------------- 1.4/1.4 MB 2.2 MB/s eta 0:00:00\n",
      "Collecting pyclipper\n",
      "  Downloading pyclipper-1.3.0.post4-cp310-cp310-win_amd64.whl (94 kB)\n",
      "     ---------------------------------------- 94.5/94.5 kB 2.6 MB/s eta 0:00:00\n",
      "Requirement already satisfied: typing_extensions in c:\\users\\welcome\\anaconda3\\envs\\pytorch1\\lib\\site-packages (from torchvision>=0.5->easyocr) (4.4.0)\n",
      "Requirement already satisfied: requests in c:\\users\\welcome\\anaconda3\\envs\\pytorch1\\lib\\site-packages (from torchvision>=0.5->easyocr) (2.28.1)\n",
      "Requirement already satisfied: six in c:\\users\\welcome\\anaconda3\\envs\\pytorch1\\lib\\site-packages (from python-bidi->easyocr) (1.16.0)\n",
      "Collecting PyWavelets>=1.1.1\n",
      "  Downloading PyWavelets-1.4.1-cp310-cp310-win_amd64.whl (4.2 MB)\n",
      "     ---------------------------------------- 4.2/4.2 MB 3.4 MB/s eta 0:00:00\n",
      "Collecting imageio>=2.4.1\n",
      "  Downloading imageio-2.23.0-py3-none-any.whl (3.4 MB)\n",
      "     ---------------------------------------- 3.4/3.4 MB 3.0 MB/s eta 0:00:00\n",
      "Collecting tifffile>=2019.7.26\n",
      "  Downloading tifffile-2022.10.10-py3-none-any.whl (210 kB)\n",
      "     -------------------------------------- 210.3/210.3 kB 2.1 MB/s eta 0:00:00\n",
      "Collecting networkx>=2.2\n",
      "  Downloading networkx-2.8.8-py3-none-any.whl (2.0 MB)\n",
      "     ---------------------------------------- 2.0/2.0 MB 2.9 MB/s eta 0:00:00\n",
      "Requirement already satisfied: packaging>=20.0 in c:\\users\\welcome\\anaconda3\\envs\\pytorch1\\lib\\site-packages (from scikit-image->easyocr) (22.0)\n",
      "Requirement already satisfied: charset-normalizer<3,>=2 in c:\\users\\welcome\\anaconda3\\envs\\pytorch1\\lib\\site-packages (from requests->torchvision>=0.5->easyocr) (2.0.4)\n",
      "Requirement already satisfied: idna<4,>=2.5 in c:\\users\\welcome\\anaconda3\\envs\\pytorch1\\lib\\site-packages (from requests->torchvision>=0.5->easyocr) (3.4)\n",
      "Requirement already satisfied: certifi>=2017.4.17 in c:\\users\\welcome\\anaconda3\\envs\\pytorch1\\lib\\site-packages (from requests->torchvision>=0.5->easyocr) (2022.12.7)\n",
      "Requirement already satisfied: urllib3<1.27,>=1.21.1 in c:\\users\\welcome\\anaconda3\\envs\\pytorch1\\lib\\site-packages (from requests->torchvision>=0.5->easyocr) (1.26.13)\n",
      "Installing collected packages: pyclipper, ninja, tifffile, Shapely, scipy, PyYAML, PyWavelets, python-bidi, opencv-python-headless, networkx, imageio, scikit-image, easyocr\n",
      "Successfully installed PyWavelets-1.4.1 PyYAML-6.0 Shapely-2.0.0 easyocr-1.6.2 imageio-2.23.0 networkx-2.8.8 ninja-1.11.1 opencv-python-headless-4.5.4.60 pyclipper-1.3.0.post4 python-bidi-0.4.2 scikit-image-0.19.3 scipy-1.9.3 tifffile-2022.10.10\n"
     ]
    }
   ],
   "source": [
    "!pip install easyocr\n"
   ]
  },
  {
   "cell_type": "code",
   "execution_count": 2,
   "id": "8474ae1b",
   "metadata": {},
   "outputs": [],
   "source": [
    "import easyocr\n",
    "import cv2\n",
    "from matplotlib import pyplot as plt\n",
    "import numpy as np"
   ]
  },
  {
   "cell_type": "code",
   "execution_count": 3,
   "id": "d24e2796",
   "metadata": {},
   "outputs": [],
   "source": [
    "IMAGE_PATH = 'surf.jpg'"
   ]
  },
  {
   "cell_type": "code",
   "execution_count": 4,
   "id": "89ec00af",
   "metadata": {},
   "outputs": [
    {
     "name": "stderr",
     "output_type": "stream",
     "text": [
      "CUDA not available - defaulting to CPU. Note: This module is much faster with a GPU.\n",
      "Downloading detection model, please wait. This may take several minutes depending upon your network connection.\n"
     ]
    },
    {
     "name": "stdout",
     "output_type": "stream",
     "text": [
      "Progress: |██████████████████████████████████████████████████| 100.0% Complete"
     ]
    },
    {
     "name": "stderr",
     "output_type": "stream",
     "text": [
      "Downloading recognition model, please wait. This may take several minutes depending upon your network connection.\n"
     ]
    },
    {
     "name": "stdout",
     "output_type": "stream",
     "text": [
      "Progress: |██████████████████████████████████████████████████| 100.0% Complete"
     ]
    },
    {
     "data": {
      "text/plain": [
       "[([[10, 71], [215, 71], [215, 147], [10, 147]], 'SURF', 0.9993820190429688)]"
      ]
     },
     "execution_count": 4,
     "metadata": {},
     "output_type": "execute_result"
    }
   ],
   "source": [
    "reader = easyocr.Reader(['en'])\n",
    "result = reader.readtext(IMAGE_PATH)\n",
    "result\n"
   ]
  },
  {
   "cell_type": "code",
   "execution_count": 11,
   "id": "6cd864ad",
   "metadata": {},
   "outputs": [
    {
     "name": "stderr",
     "output_type": "stream",
     "text": [
      "CUDA not available - defaulting to CPU. Note: This module is much faster with a GPU.\n"
     ]
    },
    {
     "data": {
      "text/plain": [
       "[([[191, 79], [527, 79], [527, 265], [191, 265]], 'Ak', 0.8837340134264838)]"
      ]
     },
     "execution_count": 11,
     "metadata": {},
     "output_type": "execute_result"
    }
   ],
   "source": [
    "reader = easyocr.Reader(['en'])\n",
    "result = reader.readtext(\"ak.png\")\n",
    "result"
   ]
  },
  {
   "cell_type": "code",
   "execution_count": 13,
   "id": "af2545ae",
   "metadata": {},
   "outputs": [
    {
     "name": "stderr",
     "output_type": "stream",
     "text": [
      "CUDA not available - defaulting to CPU. Note: This module is much faster with a GPU.\n"
     ]
    },
    {
     "data": {
      "text/plain": [
       "[([[50, 0], [733, 0], [733, 330], [50, 330]], 'Hello', 0.9974634608218925)]"
      ]
     },
     "execution_count": 13,
     "metadata": {},
     "output_type": "execute_result"
    }
   ],
   "source": [
    "reader = easyocr.Reader(['en'])\n",
    "result = reader.readtext(\"hello.png\")\n",
    "result"
   ]
  },
  {
   "cell_type": "code",
   "execution_count": 3,
   "id": "2f575cec",
   "metadata": {},
   "outputs": [
    {
     "name": "stderr",
     "output_type": "stream",
     "text": [
      "CUDA not available - defaulting to CPU. Note: This module is much faster with a GPU.\n"
     ]
    },
    {
     "data": {
      "text/plain": [
       "[([[110, 70], [402, 70], [402, 264], [110, 264]], '0k', 0.2805343022044602)]"
      ]
     },
     "execution_count": 3,
     "metadata": {},
     "output_type": "execute_result"
    }
   ],
   "source": [
    "reader = easyocr.Reader(['en'])\n",
    "result = reader.readtext(\"ok.png\")\n",
    "result"
   ]
  },
  {
   "cell_type": "code",
   "execution_count": null,
   "id": "70eb1e4c",
   "metadata": {},
   "outputs": [],
   "source": []
  }
 ],
 "metadata": {
  "kernelspec": {
   "display_name": "pytorch1",
   "language": "python",
   "name": "pytorch1"
  },
  "language_info": {
   "codemirror_mode": {
    "name": "ipython",
    "version": 3
   },
   "file_extension": ".py",
   "mimetype": "text/x-python",
   "name": "python",
   "nbconvert_exporter": "python",
   "pygments_lexer": "ipython3",
   "version": "3.10.8"
  }
 },
 "nbformat": 4,
 "nbformat_minor": 5
}
