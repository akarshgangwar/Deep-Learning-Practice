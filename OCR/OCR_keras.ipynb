{
 "cells": [
  {
   "cell_type": "code",
   "execution_count": 1,
   "id": "9d8e86ee",
   "metadata": {},
   "outputs": [],
   "source": [
    "from tensorflow.keras.datasets import mnist\n",
    "import numpy as np"
   ]
  },
  {
   "cell_type": "code",
   "execution_count": 3,
   "id": "c8e2979d",
   "metadata": {},
   "outputs": [],
   "source": [
    "def load_az_dataset(datasetPath):\n",
    "    # initialize the list of data and labels\n",
    "\tdata = []\n",
    "\tlabels = []\n",
    "\t# loop over the rows of the A-Z handwritten digit dataset\n",
    "\tfor row in open(datasetPath):\n",
    "\t\t# parse the label and image from the row\n",
    "\t\trow = row.split(\",\")\n",
    "\t\tlabel = int(row[0])\n",
    "\t\timage = np.array([int(x) for x in row[1:]], dtype=\"uint8\")\n",
    "\t\t# images are represented as single channel (grayscale) images\n",
    "\t\t# that are 28x28=784 pixels -- we need to take this flattened\n",
    "\t\t# 784-d list of numbers and repshape them into a 28x28 matrix\n",
    "\t\timage = image.reshape((28, 28))\n",
    "\t\t# update the list of data and labels\n",
    "\t\tdata.append(image)\n",
    "\t\tlabels.append(label)\n",
    "\t# convert the data and labels to NumPy arrays\n",
    "\tdata = np.array(data, dtype=\"float32\")\n",
    "\tlabels = np.array(labels, dtype=\"int\")\n",
    "\t# return a 2-tuple of the A-Z data and labels\n",
    "\treturn (data, labels)"
   ]
  },
  {
   "cell_type": "code",
   "execution_count": 4,
   "id": "8dc9537a",
   "metadata": {},
   "outputs": [],
   "source": [
    "def load_mnist_dataset():\n",
    "\t# load the MNIST dataset and stack the training data and testing\n",
    "\t# data together (we'll create our own training and testing splits\n",
    "\t# later in the project)\n",
    "\t((trainData, trainLabels), (testData, testLabels)) = mnist.load_data()\n",
    "\tdata = np.vstack([trainData, testData])\n",
    "\tlabels = np.hstack([trainLabels, testLabels])\n",
    "\t# return a 2-tuple of the MNIST data and labels\n",
    "\treturn (data, labels)"
   ]
  },
  {
   "cell_type": "code",
   "execution_count": null,
   "id": "b10f0aef",
   "metadata": {},
   "outputs": [],
   "source": []
  }
 ],
 "metadata": {
  "kernelspec": {
   "display_name": "Python 3 (ipykernel)",
   "language": "python",
   "name": "python3"
  },
  "language_info": {
   "codemirror_mode": {
    "name": "ipython",
    "version": 3
   },
   "file_extension": ".py",
   "mimetype": "text/x-python",
   "name": "python",
   "nbconvert_exporter": "python",
   "pygments_lexer": "ipython3",
   "version": "3.9.13"
  }
 },
 "nbformat": 4,
 "nbformat_minor": 5
}
